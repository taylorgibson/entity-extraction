{
 "cells": [
  {
   "cell_type": "markdown",
   "id": "b2deabb6-6f7f-437d-b504-f181849a8c5c",
   "metadata": {},
   "source": [
    "# Entity extraction with Claude\n",
    "Before you begin, make sure you've read through the included [README.md](README.md) file to:\n",
    "1. Create an Anthropic Console account\n",
    "2. Create an API key to use in this cookbook\n",
    "3. Install the `anthropic` Python SDK\n",
    "\n",
    "Once you've completed these steps, you'll be ready to complete this cookbook recipe. 👨‍🍳"
   ]
  },
  {
   "cell_type": "markdown",
   "id": "bd95dee0-349e-429e-a1b8-dee0e042837f",
   "metadata": {},
   "source": [
    "## Streamlining customer service\n",
    "In this cookbook recipe, we'll demonstrate how to use Claude to extract helpful information from (fictional) voicemail transcriptions. The voicemails are left by customers of a national bank with branches across the United States. We'll demonstrate how Claude can help extract important information from the voicemails that can help customer support quickly route their request to the most appropriate support agent."
   ]
  },
  {
   "cell_type": "markdown",
   "id": "4861052a-7179-4109-b80f-9f57bd53ef8e",
   "metadata": {},
   "source": [
    "## Set up the environment\n",
    "\n",
    "First, confirm that you've installed the Anthropic Python SDK by running the following code:"
   ]
  },
  {
   "cell_type": "code",
   "execution_count": null,
   "id": "3bdd1398-4b8c-406c-90c2-9ca3df9ee6ca",
   "metadata": {},
   "outputs": [],
   "source": [
    "!pip install anthropic"
   ]
  },
  {
   "cell_type": "markdown",
   "id": "a4edc260-a419-4b65-8e6e-f35223053b66",
   "metadata": {},
   "source": [
    "Next, load the `anthropic` library and set up the Anthropic `client`. Be sure to replace `\"<your-api-key>\"` with your actual API key created during the initial set up for this recipe."
   ]
  },
  {
   "cell_type": "code",
   "execution_count": 1,
   "id": "f3c54726-026f-42c6-9647-7542d63e32e9",
   "metadata": {},
   "outputs": [],
   "source": [
    "import anthropic\n",
    "\n",
    "client = anthropic.Anthropic(\n",
    "    api_key=\"<your-api-key>\",\n",
    ")"
   ]
  },
  {
   "cell_type": "markdown",
   "id": "5c57ca1f-13d7-400b-8880-bc0eb21e7ac3",
   "metadata": {},
   "source": [
    "## Define the extraction tool\n",
    "\n",
    "To extract the information from our voicemail transcripts, define the `extract_entities` function which contains a prompt specific to this application to Claude. You should consider the following aspects of the prompt that you may want to change:\n",
    "* **JSON output:** This prompt specifically asks for entities to be structured as JSON output, and prefills the Assistant message with `{` to guide the output in this direction. Consider if JSON is the most appropriate output for your project. For additional information on using different output formats, see [prefilling](https://docs.anthropic.com/en/docs/prefill-claudes-response) and [control output format](https://docs.anthropic.com/en/docs/control-output-format).\n",
    "* **`model`:** This client is configured to use `\"claude-3-sonnet-20240229\"` by model default, which is Claude's maximum utility model that offers dependable and balanced outputs at a lower price. Other options may be more appropriate for your use case. [Learn more about how Opus, Sonnet, and Haiku compare](https://docs.anthropic.com/en/docs/models-overview#model-comparison).\n",
    "\n",
    "You'll notice that the function takes in three arguments:\n",
    "1. **`message`:** The text from which you wish to extract entities.\n",
    "2. **`entities`:** A string which contains a list of the entities that you want Claude to prioritize.\n",
    "3. **`properties`:** A string which contains a list of the properties that you're interested in knowing about for the extracted entities.\n",
    "\n",
    "You can modify these inputs to match the type of text you're working with for your particular use case."
   ]
  },
  {
   "cell_type": "code",
   "execution_count": 2,
   "id": "c9444fc1-c921-4858-b624-79fe17273630",
   "metadata": {},
   "outputs": [],
   "source": [
    "def extract_entities(message: str, entities: str, properties:str):\n",
    "    prompt = f\"\"\"\n",
    "    You are an information extraction system.\n",
    "    You respond to each message with a JSON formatted summary of all entities in the message. \n",
    "    Each named entity appears as an entry in a JSON-formatted list.\n",
    "    Each named entity in the JSON list should contain relevant properties of that entry.\n",
    "    \n",
    "    The types of entities that we are most interested in are:\n",
    "    <entities>\n",
    "        {entities}\n",
    "    </entities>\n",
    "    \n",
    "    The properties of the entities we’re most interested in are: \n",
    "\n",
    "    <properties>\n",
    "        {properties}\n",
    "    </properties>\n",
    "\n",
    "    Important: Only include entities that appear in the message. Only include properties that are relevant to each entity.\n",
    "\n",
    "    Respond with just the formatted JSON summary of the following message:\n",
    "    \n",
    "    <message>\n",
    "        {message}\n",
    "    </message>\n",
    "    \"\"\"\n",
    "    \n",
    "    # Send the user and assistant messages to the API\n",
    "    response = client.messages.create( \n",
    "        model=\"claude-3-sonnet-20240229\",        \n",
    "        max_tokens=4096, \n",
    "        temperature=0.0,\n",
    "        messages=[{\"role\":\"user\", \"content\": prompt}, {\"role\":\"assistant\", \"content\": \"{\"}])\n",
    "    \n",
    "    # Extract the text response from the response from Claude\n",
    "    result = response.content[0].text.strip()\n",
    "\n",
    "    # Returns the JSON response, adding back in the { from the Assistant message\n",
    "    # which wasn't returned as part of the output message, to ensure valid JSON\n",
    "    return \"{\\n\" + result"
   ]
  },
  {
   "cell_type": "markdown",
   "id": "d5604ca6-9134-48e1-af5d-4dcc8ccb9133",
   "metadata": {},
   "source": [
    "## Load the voicemails\n",
    "Let's look at three voicemails that were received recently at the bank:\n",
    "\n",
    "> \"Hi, this message is for the customer support team at Woodlands Bank. My name is Michael Thompson. I'm calling today, June 14th, 2024 at 2:15 pm. I tried to make a transfer between my checking and savings account on your mobile app, but it gave me an error message and the transfer didn't go through. I bank at your West Ridge Mall branch location here in Atlanta. Please let me know how to resolve this issue. You can reach me at 404-555-7823. Thank you.\"\n",
    "\n",
    "> \"Good afternoon, this is Samantha Davis leaving a voicemail for Woodlands Bank customer service. I'm calling on Friday, June 14th at 4:45 pm. I recently received a new debit card in the mail to replace my expiring one. However, when I tried to activate it online, the website isn't accepting the new card number. I bank at your Downtown Denver branch location. Someone needs to look into this activation issue as soon as possible. My number is 720-555-0192 if you need any other information from me.\"\n",
    "\n",
    "> \"Hi there, Stephen Garcia here leaving a message for Woodlands Bank on Friday, June 14th around 3:45pm. I recently opened a new savings account at your bank and went to make my first deposit at the ATM, but the machine is showing my account is locked or restricted? I'm not sure what the issue is. My phone number is 917-555-4621 if you can please call me back about this. I bank at your Midtown Manhattan branch in New York City. I appreciate you looking into it.\"\n",
    "\n",
    "Run the cell below to load them as the list `voicemails`."
   ]
  },
  {
   "cell_type": "code",
   "execution_count": 3,
   "id": "8aa21fc3-9e55-4efc-ab46-14272399f080",
   "metadata": {},
   "outputs": [],
   "source": [
    "with open('voicemails.txt', 'r') as raw_data:\n",
    "    voicemails = raw_data.read().split('\\n')"
   ]
  },
  {
   "cell_type": "markdown",
   "id": "d158f4ea-8c75-41c3-98a6-61da78ac3f80",
   "metadata": {},
   "source": [
    "## Defining the parameters for extraction\n",
    "\n",
    "Each voicemail contains some information about the person who called, some information about their local branch, a date (sometimes with a year) and time of their call, and a brief description of the issue they are having. We'd like to extract these entities from the text, and any accompanying details for each entity, so we define those entries and properties as comma separated values in the strings `entities_list` and `properties_list`."
   ]
  },
  {
   "cell_type": "code",
   "execution_count": 4,
   "id": "8bfcf741-8099-4532-8b6b-e34e4170196b",
   "metadata": {},
   "outputs": [],
   "source": [
    "entities_list = \"person, bank, date, issue\"\n",
    "properties_list = \"name, phone, email, city, state, type, branch location, day, month, time, issue type\""
   ]
  },
  {
   "cell_type": "markdown",
   "id": "c36c6d64-f328-46fa-9dd6-f2b5cb3e0559",
   "metadata": {},
   "source": [
    "## Extracting entities\n",
    "\n",
    "For each voicemail in the `voicemails.txt` file, the code below will use Claude to:\n",
    "1. Extract the provided entities and properties using `extract_entities`.\n",
    "2. Convert the output from `extract_entities` to a JSON object.\n",
    "3. Print the original voicemail transcription, followed by the corresponding JSON object."
   ]
  },
  {
   "cell_type": "code",
   "execution_count": 5,
   "id": "bd5a2e90-76d6-45e1-abbe-558d5368450b",
   "metadata": {},
   "outputs": [
    {
     "name": "stdout",
     "output_type": "stream",
     "text": [
      "\"Hi, this message is for the customer support team at Woodlands Bank. My name is Michael Thompson. I'm calling today, June 14th, 2024 at 2:15 pm. I tried to make a transfer between my checking and savings account on your mobile app, but it gave me an error message and the transfer didn't go through. I bank at your West Ridge Mall branch location here in Atlanta. Please let me know how to resolve this issue. You can reach me at 404-555-7823. Thank you.\"\n",
      "{\n",
      "  \"entities\": [\n",
      "    {\n",
      "      \"name\": \"Michael Thompson\",\n",
      "      \"type\": \"person\",\n",
      "      \"phone\": \"404-555-7823\"\n",
      "    },\n",
      "    {\n",
      "      \"name\": \"Woodlands Bank\",\n",
      "      \"type\": \"bank\",\n",
      "      \"branch location\": \"West Ridge Mall, Atlanta\"\n",
      "    },\n",
      "    {\n",
      "      \"day\": 14,\n",
      "      \"month\": 6,\n",
      "      \"year\": 2024,\n",
      "      \"time\": \"2:15 pm\",\n",
      "      \"type\": \"date\"\n",
      "    },\n",
      "    {\n",
      "      \"type\": \"issue\",\n",
      "      \"issue type\": \"error transferring between accounts on mobile app\"\n",
      "    }\n",
      "  ]\n",
      "}\n",
      "==================================================\n",
      "\"Good afternoon, this is Samantha Davis leaving a voicemail for Woodlands Bank customer service. I'm calling on Friday, June 14th at 4:45 pm. I recently received a new debit card in the mail to replace my expiring one. However, when I tried to activate it online, the website isn't accepting the new card number. I bank at your Downtown Denver branch location. Someone needs to look into this activation issue as soon as possible. My number is 720-555-0192 if you need any other information from me.\"\n",
      "{\n",
      "  \"entities\": [\n",
      "    {\n",
      "      \"name\": \"Samantha Davis\",\n",
      "      \"type\": \"person\",\n",
      "      \"phone\": \"720-555-0192\"\n",
      "    },\n",
      "    {\n",
      "      \"name\": \"Woodlands Bank\",\n",
      "      \"type\": \"bank\",\n",
      "      \"branch location\": \"Downtown Denver\"\n",
      "    },\n",
      "    {\n",
      "      \"day\": \"Friday\",\n",
      "      \"month\": \"June\",\n",
      "      \"time\": \"4:45 pm\",\n",
      "      \"date\": \"June 14th\",\n",
      "      \"type\": \"date\"\n",
      "    },\n",
      "    {\n",
      "      \"type\": \"issue\",\n",
      "      \"issue type\": \"debit card activation issue\"\n",
      "    }\n",
      "  ]\n",
      "}\n",
      "==================================================\n",
      "\"Hi there, Stephen Garcia here leaving a message for Woodlands Bank on Friday, June 14th around 3:45pm. I recently opened a new savings account at your bank and went to make my first deposit at the ATM, but the machine is showing my account is locked or restricted? I'm not sure what the issue is. My phone number is 917-555-4621 if you can please call me back about this. I bank at your Midtown Manhattan branch in New York City. I appreciate you looking into it.\"\n",
      "{\n",
      "  \"entities\": [\n",
      "    {\n",
      "      \"name\": \"Stephen Garcia\",\n",
      "      \"type\": \"person\",\n",
      "      \"phone\": \"917-555-4621\"\n",
      "    },\n",
      "    {\n",
      "      \"name\": \"Woodlands Bank\",\n",
      "      \"type\": \"bank\",\n",
      "      \"branch location\": \"Midtown Manhattan, New York City\"\n",
      "    },\n",
      "    {\n",
      "      \"day\": \"Friday\",\n",
      "      \"month\": \"June\",\n",
      "      \"time\": \"3:45pm\",\n",
      "      \"date\": \"June 14th\"\n",
      "    },\n",
      "    {\n",
      "      \"type\": \"issue\",\n",
      "      \"issue type\": \"account locked or restricted\"\n",
      "    }\n",
      "  ]\n",
      "}\n",
      "==================================================\n"
     ]
    }
   ],
   "source": [
    "import json\n",
    "\n",
    "for voicemail in voicemails:\n",
    "    entities = extract_entities(voicemail, entities_list, properties_list)\n",
    "    json_entities = json.loads(entities)\n",
    "    print(voicemail)\n",
    "    print(json.dumps( json_entities, indent=2))\n",
    "    print('='*50)"
   ]
  },
  {
   "cell_type": "markdown",
   "id": "ecb4378a-8643-42f4-a504-aaf1834d90b6",
   "metadata": {},
   "source": [
    "## Conclusion\n",
    "Claude was successfully able to determine the key information from each voicemail transcription and organized them in a JSON object. This flexible generic prompt can effectively be adapted for different uses cases, however it does has some limitations. For increased accuracy for a specific application, you should look to incorporate information specific to your task into the prompt to provide additional context of your text and the desired structure of your output."
   ]
  },
  {
   "cell_type": "markdown",
   "id": "45416c2e-ad90-464c-b5b6-493181a43b7e",
   "metadata": {},
   "source": [
    "## If only...\n",
    "\n",
    "If I had additional time to perfect this recipe I would have tried to:\n",
    "* **Increase example variety:** It would have been great to showcase different use cases and output formats to highlight the flexibility that Claude can provide for entity extraction.\n",
    "* **Improve prompt accuracy:** I would have liked to work alongside a prompt engineer to improve the prompt I used in this recipe, as it was a bit difficult to get this prompt to work consistently across all the sample voicemail transcriptions I generated.\n",
    "* **Acknowledge limitations:** I also would have liked to show some of the limitations of this generic prompt, and how to overcome them with stronger prompting techniques.\n",
    "* **Utilize advanced Claude features:** Lastly, I would have loved to showcase how you can use the [tool use feature of Claude to force a JSON output](https://docs.anthropic.com/en/docs/tool-use-examples#json-mode) as an extra section of the recipe. This additional complexity would have been a nice extension for more experienced users."
   ]
  }
 ],
 "metadata": {
  "kernelspec": {
   "display_name": "Python 3 (ipykernel)",
   "language": "python",
   "name": "python3"
  },
  "language_info": {
   "codemirror_mode": {
    "name": "ipython",
    "version": 3
   },
   "file_extension": ".py",
   "mimetype": "text/x-python",
   "name": "python",
   "nbconvert_exporter": "python",
   "pygments_lexer": "ipython3",
   "version": "3.12.3"
  }
 },
 "nbformat": 4,
 "nbformat_minor": 5
}
